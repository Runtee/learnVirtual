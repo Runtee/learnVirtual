{
 "cells": [
  {
   "cell_type": "markdown",
   "metadata": {},
   "source": [
    "## ENGAGE_UR_BRAIN"
   ]
  },
  {
   "cell_type": "code",
   "execution_count": 1,
   "metadata": {},
   "outputs": [],
   "source": [
    "\"\"\"PyDictionary is a library to access meaning,antonyms, synonyms, and translation of words in Thesaurus Dictionary\n",
    "   RandomWords is a library to generate random words\n",
    "   enchant library is use for spell-check\"\"\"\n",
    "\n",
    "#import needed libraries\n",
    "from PyDictionary import PyDictionary\n",
    "from random_word import RandomWords\n",
    "import enchant\n",
    "from itertools import permutations"
   ]
  },
  {
   "cell_type": "code",
   "execution_count": 2,
   "metadata": {
    "scrolled": true
   },
   "outputs": [
    {
     "name": "stdout",
     "output_type": "stream",
     "text": [
      "Welcome to EngageUrBrain! we are glad to have you\n",
      "Make sure you enter correct words.\n",
      "\n",
      "How many letter's word can you try: 4\n"
     ]
    }
   ],
   "source": [
    "print(\"Welcome to EngageUrBrain! we are glad to have you\", end=\"\\n\")\n",
    "print(\"Make sure you enter correct words.\")\n",
    "print()\n",
    "\n",
    "trial = int(input(\"How many letter's word can you try: \"))"
   ]
  },
  {
   "cell_type": "code",
   "execution_count": 3,
   "metadata": {},
   "outputs": [
    {
     "name": "stdout",
     "output_type": "stream",
     "text": [
      "Your word is:  FLAMES\n"
     ]
    }
   ],
   "source": [
    "# generate random word\n",
    "r = RandomWords()\n",
    "word = r.get_random_word()\n",
    "\n",
    "#display the word to the user\n",
    "print(\"Your word is: \", word.upper())"
   ]
  },
  {
   "cell_type": "code",
   "execution_count": 4,
   "metadata": {},
   "outputs": [
    {
     "name": "stderr",
     "output_type": "stream",
     "text": [
      "C:\\Users\\DM4\\Anaconda3\\lib\\site-packages\\PyDictionary\\utils.py:5: UserWarning: No parser was explicitly specified, so I'm using the best available HTML parser for this system (\"lxml\"). This usually isn't a problem, but if you run this code on another system, or in a different virtual environment, it may use a different parser and behave differently.\n",
      "\n",
      "The code that caused this warning is on line 5 of the file C:\\Users\\DM4\\Anaconda3\\lib\\site-packages\\PyDictionary\\utils.py. To get rid of this warning, pass the additional argument 'features=\"lxml\"' to the BeautifulSoup constructor.\n",
      "\n",
      "  return BeautifulSoup(requests.get(url).text)\n"
     ]
    },
    {
     "name": "stdout",
     "output_type": "stream",
     "text": [
      "{'Noun': ['the process of combustion of inflammable materials producing heat and light and (often'], 'Verb': ['shine with a sudden light', 'be in flames or aflame', 'criticize harshly, usually via an electronic medium']}\n"
     ]
    }
   ],
   "source": [
    "d = PyDictionary()\n",
    "print(d.meaning(word))"
   ]
  },
  {
   "cell_type": "code",
   "execution_count": 5,
   "metadata": {},
   "outputs": [
    {
     "name": "stdout",
     "output_type": "stream",
     "text": [
      "Length of all permuted words:  360\n",
      "['flam', 'flae', 'flas', 'flma', 'flme', 'flms', 'flea', 'flem', 'fles', 'flsa', 'flsm', 'flse', 'falm', 'fale', 'fals', 'faml', 'fame', 'fams', 'fael', 'faem', 'faes', 'fasl', 'fasm', 'fase', 'fmla', 'fmle', 'fmls', 'fmal', 'fmae', 'fmas', 'fmel', 'fmea', 'fmes', 'fmsl', 'fmsa', 'fmse', 'fela', 'felm', 'fels', 'feal', 'feam', 'feas', 'feml', 'fema', 'fems', 'fesl', 'fesa', 'fesm', 'fsla', 'fslm', 'fsle', 'fsal', 'fsam', 'fsae', 'fsml', 'fsma', 'fsme', 'fsel', 'fsea', 'fsem', 'lfam', 'lfae', 'lfas', 'lfma', 'lfme', 'lfms', 'lfea', 'lfem', 'lfes', 'lfsa', 'lfsm', 'lfse', 'lafm', 'lafe', 'lafs', 'lamf', 'lame', 'lams', 'laef', 'laem', 'laes', 'lasf', 'lasm', 'lase', 'lmfa', 'lmfe', 'lmfs', 'lmaf', 'lmae', 'lmas', 'lmef', 'lmea', 'lmes', 'lmsf', 'lmsa', 'lmse', 'lefa', 'lefm', 'lefs', 'leaf', 'leam', 'leas', 'lemf', 'lema', 'lems', 'lesf', 'lesa', 'lesm', 'lsfa', 'lsfm', 'lsfe', 'lsaf', 'lsam', 'lsae', 'lsmf', 'lsma', 'lsme', 'lsef', 'lsea', 'lsem', 'aflm', 'afle', 'afls', 'afml', 'afme', 'afms', 'afel', 'afem', 'afes', 'afsl', 'afsm', 'afse', 'alfm', 'alfe', 'alfs', 'almf', 'alme', 'alms', 'alef', 'alem', 'ales', 'alsf', 'alsm', 'alse', 'amfl', 'amfe', 'amfs', 'amlf', 'amle', 'amls', 'amef', 'amel', 'ames', 'amsf', 'amsl', 'amse', 'aefl', 'aefm', 'aefs', 'aelf', 'aelm', 'aels', 'aemf', 'aeml', 'aems', 'aesf', 'aesl', 'aesm', 'asfl', 'asfm', 'asfe', 'aslf', 'aslm', 'asle', 'asmf', 'asml', 'asme', 'asef', 'asel', 'asem', 'mfla', 'mfle', 'mfls', 'mfal', 'mfae', 'mfas', 'mfel', 'mfea', 'mfes', 'mfsl', 'mfsa', 'mfse', 'mlfa', 'mlfe', 'mlfs', 'mlaf', 'mlae', 'mlas', 'mlef', 'mlea', 'mles', 'mlsf', 'mlsa', 'mlse', 'mafl', 'mafe', 'mafs', 'malf', 'male', 'mals', 'maef', 'mael', 'maes', 'masf', 'masl', 'mase', 'mefl', 'mefa', 'mefs', 'melf', 'mela', 'mels', 'meaf', 'meal', 'meas', 'mesf', 'mesl', 'mesa', 'msfl', 'msfa', 'msfe', 'mslf', 'msla', 'msle', 'msaf', 'msal', 'msae', 'msef', 'msel', 'msea', 'efla', 'eflm', 'efls', 'efal', 'efam', 'efas', 'efml', 'efma', 'efms', 'efsl', 'efsa', 'efsm', 'elfa', 'elfm', 'elfs', 'elaf', 'elam', 'elas', 'elmf', 'elma', 'elms', 'elsf', 'elsa', 'elsm', 'eafl', 'eafm', 'eafs', 'ealf', 'ealm', 'eals', 'eamf', 'eaml', 'eams', 'easf', 'easl', 'easm', 'emfl', 'emfa', 'emfs', 'emlf', 'emla', 'emls', 'emaf', 'emal', 'emas', 'emsf', 'emsl', 'emsa', 'esfl', 'esfa', 'esfm', 'eslf', 'esla', 'eslm', 'esaf', 'esal', 'esam', 'esmf', 'esml', 'esma', 'sfla', 'sflm', 'sfle', 'sfal', 'sfam', 'sfae', 'sfml', 'sfma', 'sfme', 'sfel', 'sfea', 'sfem', 'slfa', 'slfm', 'slfe', 'slaf', 'slam', 'slae', 'slmf', 'slma', 'slme', 'slef', 'slea', 'slem', 'safl', 'safm', 'safe', 'salf', 'salm', 'sale', 'samf', 'saml', 'same', 'saef', 'sael', 'saem', 'smfl', 'smfa', 'smfe', 'smlf', 'smla', 'smle', 'smaf', 'smal', 'smae', 'smef', 'smel', 'smea', 'sefl', 'sefa', 'sefm', 'self', 'sela', 'selm', 'seaf', 'seal', 'seam', 'semf', 'seml', 'sema']\n",
      "Length of unique meaningful permuted words:  24\n",
      "{'feal', 'elms', 'slam', 'safe', 'seal', 'self', 'male', 'meal', 'sale', 'meas', 'leaf', 'lase', 'lams', 'same', 'flea', 'alms', 'emfs', 'mesa', 'leas', 'flam', 'seam', 'ales', 'fame', 'lame'}\n"
     ]
    }
   ],
   "source": [
    "dc = enchant.Dict(\"en_US\")\n",
    "meaningful_word = []\n",
    "perm_word = []\n",
    "#calculate the combination\n",
    "perm = permutations(word, trial) \n",
    "\n",
    "for i in list(perm):\n",
    "    derivatives = \"\".join(i)\n",
    "    perm_word.append(derivatives)\n",
    "    \n",
    "for d in perm_word:\n",
    "    if dc.check(d) == True:\n",
    "        meaningful_word.append(d)\n",
    " \n",
    "\n",
    "print(\"Length of all permuted words: \", len(perm_word))\n",
    "print(perm_word)\n",
    "\n",
    "\n",
    "unique_meaningful_words = set(meaningful_word)\n",
    "\n",
    "print(\"Length of unique meaningful permuted words: \", len(unique_meaningful_words))\n",
    "print(unique_meaningful_words)"
   ]
  },
  {
   "cell_type": "code",
   "execution_count": 6,
   "metadata": {},
   "outputs": [],
   "source": [
    "#if length of unique word == 0...ask for another trial"
   ]
  },
  {
   "cell_type": "code",
   "execution_count": 7,
   "metadata": {},
   "outputs": [
    {
     "name": "stdout",
     "output_type": "stream",
     "text": [
      "You are to input 8 words!\n"
     ]
    }
   ],
   "source": [
    "# get random attempt\n",
    "\n",
    "import random\n",
    "\n",
    "if len(unique_meaningful_words) > 10:\n",
    "    attempt = random.randint(1,10)\n",
    "else:\n",
    "    attempt = random.randint(1, len(unique_meaningful_words))\n",
    "print(f\"You are to input {attempt} words!\")"
   ]
  },
  {
   "cell_type": "code",
   "execution_count": 8,
   "metadata": {},
   "outputs": [
    {
     "name": "stdout",
     "output_type": "stream",
     "text": [
      "1:lame\n",
      "CORRECT!!\n",
      "2:seal\n",
      "CORRECT!!\n",
      "3:leaf\n",
      "CORRECT!!\n",
      "4:meal\n",
      "CORRECT!!\n",
      "5:seal\n",
      "You have entered that word!\n",
      "5:lames\n",
      "6:male\n",
      "CORRECT!!\n",
      "7:safe\n",
      "CORRECT!!\n",
      "8:flea\n",
      "CORRECT!!\n",
      "['lame', 'seal', 'leaf', 'meal', 'male', 'safe', 'flea']\n"
     ]
    }
   ],
   "source": [
    "user_words = []\n",
    "\n",
    "for i in range(attempt):\n",
    "    user_word = input(str(i+1) + \":\")\n",
    "        \n",
    "    if len(user_word) == trial:\n",
    "        if user_word in meaningful_word:\n",
    "            if user_word in user_words:\n",
    "                print(\"You have entered that word!\")\n",
    "                user_word = input(str(i+1) + \":\")\n",
    "            else:\n",
    "                print(\"CORRECT!!\")\n",
    "                user_words.append(user_word)\n",
    "        else:\n",
    "            print(\"NO SUCH DERIVATIVE!!\")\n",
    "            \n",
    "    else:\n",
    "        print(f\"Enter {trial} letters word\")\n",
    "        \n",
    "    \n",
    "print(user_words)\n"
   ]
  },
  {
   "cell_type": "code",
   "execution_count": 9,
   "metadata": {
    "scrolled": true
   },
   "outputs": [
    {
     "name": "stdout",
     "output_type": "stream",
     "text": [
      "{'Noun': [\"someone who doesn't understand what is going on\", 'a fabric interwoven with threads of metal'], 'Verb': ['deprive of the use of a limb, especially a leg'], 'Adjective': ['pathetically lacking in force or effectiveness', 'disabled in the feet or legs']}\n",
      "أعرج\n",
      "{'Noun': ['fastener consisting of a resinous composition that is plastic when warm; used for sealing documents and parcels and letters', 'a device incised to make an impression; used to secure a closing or to authenticate documents', 'the pelt or fur (especially the underfur', 'a member of a Naval Special Warfare unit who is trained for unconventional warfare', 'a stamp affixed to a document (as to attest to its authenticity or to seal it', 'an indication of approved or superior status', 'a finishing coat applied to exclude moisture', 'fastener that provides a tight and perfect closure', 'any of numerous marine mammals that come on shore to breed; chiefly of cold regions'], 'Verb': ['make tight; secure against leakage', 'close with or as if with a seal', 'decide irrevocably', 'affix a seal to', 'cover with varnish', 'hunt seals']}\n",
      "عجل البحر\n",
      "{'Noun': ['the main organ of photosynthesis and transpiration in higher plants', 'a sheet of any written or printed material (especially in a manuscript or book', 'hinged or detachable flat section (as of a table or door'], 'Verb': ['look through a book or other written material', 'turn over pages', 'produce leaves, of plants']}\n",
      "ورقة الشجر\n",
      "{'Noun': ['the food served and eaten at one time', 'any of the occasions for eating food that occur by custom or habit at more or less fixed times', 'coarsely ground foodstuff; especially seeds of various cereal grasses or pulse']}\n",
      "وجبة\n",
      "{'Noun': ['an animal that produces gametes (spermatozoa', 'a person who belongs to the sex that cannot have babies', 'the capital of Maldives in the center of the islands'], 'Adjective': ['being the sex (of plant or animal', 'spermatozoa', 'characteristic of a man', 'for or pertaining to or composed of men or boys']}\n",
      "الذكر\n",
      "{'Noun': ['strongbox where valuables can be safely kept', 'a ventilated or refrigerated cupboard for securing provisions from pests', 'contraceptive device consisting of a sheath of thin rubber or latex that is worn over the penis during intercourse'], 'Adjective': ['free from danger or the risk of harm', '(of an undertaking', 'having reached a base without being put out', 'financially safe']}\n",
      "آمنة\n",
      "{'Noun': ['any wingless bloodsucking parasitic insect noted for ability to leap']}\n",
      "برغوث\n"
     ]
    }
   ],
   "source": [
    "d = PyDictionary()\n",
    "\n",
    "for word in user_words:\n",
    "    \n",
    "    print(d.meaning(word))\n",
    "\n",
    "    print(d.translate(word,'ar'))"
   ]
  },
  {
   "cell_type": "code",
   "execution_count": 10,
   "metadata": {},
   "outputs": [
    {
     "ename": "ImportError",
     "evalue": "cannot import name 'SynAntDictionary' from 'SynAnt' (C:\\Users\\DM4\\Desktop\\EngageUrBrain\\SynAnt.py)",
     "output_type": "error",
     "traceback": [
      "\u001b[1;31m---------------------------------------------------------------------------\u001b[0m",
      "\u001b[1;31mImportError\u001b[0m                               Traceback (most recent call last)",
      "\u001b[1;32m<ipython-input-10-25ec5ce9581e>\u001b[0m in \u001b[0;36m<module>\u001b[1;34m\u001b[0m\n\u001b[1;32m----> 1\u001b[1;33m \u001b[1;32mfrom\u001b[0m \u001b[0mSynAnt\u001b[0m \u001b[1;32mimport\u001b[0m \u001b[0mSynAntDictionary\u001b[0m\u001b[1;33m\u001b[0m\u001b[1;33m\u001b[0m\u001b[0m\n\u001b[0m\u001b[0;32m      2\u001b[0m \u001b[1;33m\u001b[0m\u001b[0m\n\u001b[0;32m      3\u001b[0m \u001b[0ms\u001b[0m \u001b[1;33m=\u001b[0m \u001b[0mSynAntDictionary\u001b[0m\u001b[1;33m(\u001b[0m\u001b[1;33m)\u001b[0m\u001b[1;33m\u001b[0m\u001b[1;33m\u001b[0m\u001b[0m\n",
      "\u001b[1;31mImportError\u001b[0m: cannot import name 'SynAntDictionary' from 'SynAnt' (C:\\Users\\DM4\\Desktop\\EngageUrBrain\\SynAnt.py)"
     ]
    }
   ],
   "source": [
    "from SynAnt import SynAntDictionary\n",
    "\n",
    "s = SynAntDictionary()"
   ]
  }
 ],
 "metadata": {
  "kernelspec": {
   "display_name": "Python 3",
   "language": "python",
   "name": "python3"
  },
  "language_info": {
   "codemirror_mode": {
    "name": "ipython",
    "version": 3
   },
   "file_extension": ".py",
   "mimetype": "text/x-python",
   "name": "python",
   "nbconvert_exporter": "python",
   "pygments_lexer": "ipython3",
   "version": "3.7.3"
  }
 },
 "nbformat": 4,
 "nbformat_minor": 2
}
