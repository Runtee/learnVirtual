{
 "cells": [
  {
   "cell_type": "markdown",
   "metadata": {},
   "source": [
    "## ENGAGE_UR_BRAIN"
   ]
  },
  {
   "cell_type": "code",
   "execution_count": null,
   "metadata": {},
   "outputs": [],
   "source": [
    "\"\"\"PyDictionary is a library to access meaning,antonyms, synonyms, and translation of words in Thesaurus Dictionary\n",
    "   RandomWords is a library to generate random words\n",
    "   enchant library is use for spell-check\"\"\"\n",
    "\n",
    "#import needed libraries\n",
    "from PyDictionary import PyDictionary\n",
    "from random_word import RandomWords\n",
    "import enchant\n",
    "from itertools import permutations"
   ]
  },
  {
   "cell_type": "code",
   "execution_count": null,
   "metadata": {
    "scrolled": true
   },
   "outputs": [],
   "source": [
    "print(\"Welcome to EngageUrBrain! we are glad to have you\", end=\"\\n\")\n",
    "print(\"Make sure you enter correct words.\")\n",
    "print()\n",
    "\n",
    "trial = int(input(\"How many letter's word can you try: \"))"
   ]
  },
  {
   "cell_type": "code",
   "execution_count": null,
   "metadata": {},
   "outputs": [],
   "source": [
    "# generate random word\n",
    "r = RandomWords()\n",
    "word = r.get_random_word()\n",
    "\n",
    "#display the word to the user\n",
    "print(\"Your word is: \", word.upper())"
   ]
  },
  {
   "cell_type": "code",
   "execution_count": null,
   "metadata": {},
   "outputs": [],
   "source": [
    "d = PyDictionary()\n",
    "print(d.meaning(word))"
   ]
  },
  {
   "cell_type": "code",
   "execution_count": null,
   "metadata": {},
   "outputs": [],
   "source": [
    "dc = enchant.Dict(\"en_US\")\n",
    "meaningful_word = []\n",
    "perm_word = []\n",
    "#calculate the combination\n",
    "perm = permutations(word, trial) \n",
    "\n",
    "for i in list(perm):\n",
    "    derivatives = \"\".join(i)\n",
    "    perm_word.append(derivatives)\n",
    "    \n",
    "for d in perm_word:\n",
    "    if dc.check(d) == True:\n",
    "        meaningful_word.append(d)\n",
    " \n",
    "\n",
    "print(\"Length of all permuted words: \", len(perm_word))\n",
    "print(perm_word)\n",
    "\n",
    "\n",
    "unique_meaningful_words = set(meaningful_word)\n",
    "\n",
    "print(\"Length of unique meaningful permuted words: \", len(unique_meaningful_words))\n",
    "print(unique_meaningful_words)"
   ]
  },
  {
   "cell_type": "code",
   "execution_count": null,
   "metadata": {},
   "outputs": [],
   "source": [
    "#if length of unique word == 0...ask for another trial"
   ]
  },
  {
   "cell_type": "code",
   "execution_count": null,
   "metadata": {},
   "outputs": [],
   "source": [
    "# get random attempt\n",
    "\n",
    "import random\n",
    "\n",
    "if len(unique_meaningful_words) > 10:\n",
    "    attempt = random.randint(1,10)\n",
    "else:\n",
    "    attempt = random.randint(1, len(unique_meaningful_words))\n",
    "print(f\"You are to input {attempt} words!\")"
   ]
  },
  {
   "cell_type": "code",
   "execution_count": null,
   "metadata": {},
   "outputs": [],
   "source": [
    "user_words = []\n",
    "\n",
    "for i in range(attempt):\n",
    "    user_word = input(str(i+1) + \":\")\n",
    "        \n",
    "    if len(user_word) == trial:\n",
    "        if user_word in meaningful_word:\n",
    "            if user_word in user_words:\n",
    "                print(\"You have entered that word!\")\n",
    "                user_word = input(str(i+1) + \":\")\n",
    "            else:\n",
    "                print(\"CORRECT!!\")\n",
    "                user_words.append(user_word)\n",
    "        else:\n",
    "            print(\"NO SUCH DERIVATIVE!!\")\n",
    "            \n",
    "    else:\n",
    "        print(f\"Enter {trial} letters word\")\n",
    "        \n",
    "    \n",
    "print(user_words)\n"
   ]
  },
  {
   "cell_type": "code",
   "execution_count": null,
   "metadata": {
    "scrolled": true
   },
   "outputs": [],
   "source": [
    "d = PyDictionary()\n",
    "\n",
    "for word in user_words:\n",
    "    \n",
    "    print(d.meaning(word))\n",
    "\n",
    "    print(d.translate(word,'ar'))"
   ]
  }
 ],
 "metadata": {
  "kernelspec": {
   "display_name": "Python 3",
   "language": "python",
   "name": "python3"
  },
  "language_info": {
   "codemirror_mode": {
    "name": "ipython",
    "version": 3
   },
   "file_extension": ".py",
   "mimetype": "text/x-python",
   "name": "python",
   "nbconvert_exporter": "python",
   "pygments_lexer": "ipython3",
   "version": "3.7.3"
  }
 },
 "nbformat": 4,
 "nbformat_minor": 2
}
