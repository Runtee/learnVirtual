{
 "cells": [
  {
   "cell_type": "markdown",
   "metadata": {},
   "source": [
    "# LEARNVIRTUAL ASSIGNMENT_WK3"
   ]
  },
  {
   "cell_type": "markdown",
   "metadata": {},
   "source": [
    "### Question 1: Simple Interest"
   ]
  },
  {
   "cell_type": "code",
   "execution_count": null,
   "metadata": {},
   "outputs": [],
   "source": [
    "#formula for simple interest is (principal *rate *time)/100\n",
    "print(\"Enter the values of principal, rate, and time (separated with commas): \")\n",
    "principal,rate,time = eval(input(\" \"))\n",
    "s_int = (principal *rate *time)/100\n",
    "print(\"Result: \", s_int)"
   ]
  },
  {
   "cell_type": "markdown",
   "metadata": {},
   "source": [
    "### Question 2: Area of shape"
   ]
  },
  {
   "cell_type": "code",
   "execution_count": null,
   "metadata": {},
   "outputs": [],
   "source": [
    "#Formula for area of Triangle is (base * height)/2\n",
    "\n",
    "base,height = eval(input(\"Enter the values of the triangle: \"))\n",
    "Area_of_triangle = (base * height)/2\n",
    "print(\"Area of the triangle: \" + str(Area_of_triangle))"
   ]
  },
  {
   "cell_type": "markdown",
   "metadata": {},
   "source": [
    "### Question 3: Daily Activities"
   ]
  },
  {
   "cell_type": "code",
   "execution_count": null,
   "metadata": {},
   "outputs": [],
   "source": [
    "#my daily routine\n",
    "days_of_the_week = [\"MONDAY\", \"TUESDAY\", \"WEDNESDAY\", \"THURSDAY\", \"FRIDAY\", \"SATURDAY\", \"SUNDAY\"]\n",
    "off_days = [\"MONDAY\", \"THURSDAY\"]\n",
    "\n",
    "day = input(\"Enter day of the week: \").upper()\n",
    "if day in days_of_the_week:\n",
    "    print(\"Good Morning Dear, It is a beautiful day to make a difference.\")\n",
    "    if day in off_days:\n",
    "        print(\"No Morning Exercise. Remember to fast!!\")\n",
    "    else:\n",
    "        print(\"Workout!!! Get your Endorphins.\")\n",
    "else:\n",
    "    print(\"Not a day of the week\")"
   ]
  },
  {
   "cell_type": "markdown",
   "metadata": {},
   "source": [
    "### Question 4: Restaurant Menu"
   ]
  },
  {
   "cell_type": "code",
   "execution_count": 13,
   "metadata": {},
   "outputs": [
    {
     "name": "stdout",
     "output_type": "stream",
     "text": [
      "May we have your name: Ade\n",
      "Hi  ADE, Glad to have you here today.\n",
      "\n",
      "Have a look at our menu...\n",
      "1 Ofada Rice & Stew\n",
      "2 Semo & Efo riro\n",
      "3 Jollof Rice & chicken\n",
      "4 Fried Rice & Chicken\n",
      "5 Chicken and Chips\n",
      "6 Amala & Ewedu\n",
      "7 Pounded yam & Efo riro\n",
      " \n",
      "Enter your meal and seat no: 34\n",
      "Our waiter will be with you shortly\n",
      "Enjoy your Meal,  Ade !\n"
     ]
    }
   ],
   "source": [
    "#Fahee's cuisine\n",
    "name = input(\"May we have your name: \")\n",
    "print(\"Hi \",name.upper() +\", Glad to have you here today.\\n\")\n",
    "\n",
    "menu = ['Ofada Rice & Stew', 'Semo & Efo riro','Jollof Rice & chicken', 'Fried Rice & Chicken', \n",
    "        'Chicken and Chips','Amala & Ewedu','Pounded yam & Efo riro']\n",
    "print(\"Have a look at our menu...\")\n",
    "\n",
    "count = 1\n",
    "for i in menu:\n",
    "    print(count,  i)\n",
    "    count = count +1\n",
    "\n",
    "print(\" \")\n",
    "meal_et_seat = input(\"Enter your meal and seat no: \")\n",
    "print(\"Our waiter will be with you shortly\\nEnjoy your Meal, \", name,\"!\")\n"
   ]
  },
  {
   "cell_type": "markdown",
   "metadata": {},
   "source": [
    "### Question 5: ATM"
   ]
  },
  {
   "cell_type": "code",
   "execution_count": 4,
   "metadata": {},
   "outputs": [
    {
     "name": "stdout",
     "output_type": "stream",
     "text": [
      "Enter (a) for withdrawal and (b) for deposit: g\n",
      "Enter a or b!!\n"
     ]
    }
   ],
   "source": [
    "#withdrawal and deposit\n",
    "balance = 150000\n",
    "\n",
    "action = input(\"Enter (a) for withdrawal and (b) for deposit: \")\n",
    "\n",
    "if action == 'a':\n",
    "    amount = eval(input(\"Enter Withdrawal Amount: \"))\n",
    "    if amount>balance:\n",
    "        print(\"Insufficient Fund!!\")\n",
    "    else:\n",
    "        newBalance = balance - amount\n",
    "        print(\"Take your cash! \\n New balance is \", newBalance)\n",
    "elif action == 'b':\n",
    "    amount = eval(input(\"Enter Deposit Amount: \"))\n",
    "    newBalance = balance + amount\n",
    "    print(\"Thank you for banking with us! \\n New balance is \", newBalance)\n",
    "else:\n",
    "    print(\"Enter a or b!!\")"
   ]
  }
 ],
 "metadata": {
  "kernelspec": {
   "display_name": "Python 3",
   "language": "python",
   "name": "python3"
  },
  "language_info": {
   "codemirror_mode": {
    "name": "ipython",
    "version": 3
   },
   "file_extension": ".py",
   "mimetype": "text/x-python",
   "name": "python",
   "nbconvert_exporter": "python",
   "pygments_lexer": "ipython3",
   "version": "3.7.3"
  }
 },
 "nbformat": 4,
 "nbformat_minor": 2
}
