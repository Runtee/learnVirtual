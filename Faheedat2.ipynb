{
 "cells": [
  {
   "cell_type": "markdown",
   "metadata": {},
   "source": [
    "## LEARN VIRTUAL ASSIGNMENT3"
   ]
  },
  {
   "cell_type": "markdown",
   "metadata": {},
   "source": [
    "### CLASSES AND OBJECTS"
   ]
  },
  {
   "cell_type": "code",
   "execution_count": 10,
   "metadata": {},
   "outputs": [
    {
     "name": "stdout",
     "output_type": "stream",
     "text": [
      "The planet Mars has a total distance of 987456 metres from the sun with 9 gravity relative to the Earth\n"
     ]
    }
   ],
   "source": [
    "#planet class\n",
    "\n",
    "class Planet:\n",
    "    \n",
    "    def __init__(self, name, distance, gravity):\n",
    "        self.name = name\n",
    "        self.distance = distance\n",
    "        self.gravity = gravity\n",
    "    \n",
    "    def displayPlanetData(self):\n",
    "        print(f\"The planet {self.name} has a total distance of {self.distance} metres from the sun with {self.gravity} gravity relative to the Earth\")\n",
    "        \n",
    "        \n",
    "#create object of the class\n",
    "planet1 = Planet(\"Mars\", 987456, 9)\n",
    "planet1.displayPlanetData()"
   ]
  },
  {
   "cell_type": "code",
   "execution_count": 20,
   "metadata": {},
   "outputs": [
    {
     "name": "stdout",
     "output_type": "stream",
     "text": [
      "Hello Adam Abdullahi, Welcome to FCMB!\n",
      "Your Acccount details is: Savings => 10000\n",
      " \n",
      "Hello Adam Abdullahi, Welcome to FCMB!\n",
      "Your Acccount details is: Current => 19000\n"
     ]
    }
   ],
   "source": [
    "#bank class\n",
    "\n",
    "class Bank:\n",
    "    \n",
    "    #base attribute\n",
    "    bankName = \"FCMB\"\n",
    "    \n",
    "    #constructor\n",
    "    def __init__(self, customerFName,customeLName, customerAccountType, balance):\n",
    "        self.customerFName = customerFName\n",
    "        self.customerLName = customeLName\n",
    "        self.customerAccountType = customerAccountType\n",
    "        self.balance = balance\n",
    "        \n",
    "    def customer(self):\n",
    "        #welcome message\n",
    "        print(f\"Hello {self.customerFName} {self.customerLName}, Welcome to {self.bankName}!\")\n",
    "        print(f\"Your Acccount details is: {self.customerAccountType} => {self.balance}\")\n",
    "        \n",
    "\n",
    "customer1 = Bank(\"Adam\", \"Abdullahi\", \"Savings\", 10000)\n",
    "customer2 = Bank(\"Adam\", \"Abdullahi\", \"Current\", 19000)\n",
    "\n",
    "customer1.customer()\n",
    "print(\" \")\n",
    "customer2.customer()"
   ]
  },
  {
   "cell_type": "code",
   "execution_count": null,
   "metadata": {},
   "outputs": [],
   "source": []
  }
 ],
 "metadata": {
  "kernelspec": {
   "display_name": "Python 3",
   "language": "python",
   "name": "python3"
  },
  "language_info": {
   "codemirror_mode": {
    "name": "ipython",
    "version": 3
   },
   "file_extension": ".py",
   "mimetype": "text/x-python",
   "name": "python",
   "nbconvert_exporter": "python",
   "pygments_lexer": "ipython3",
   "version": "3.7.3"
  }
 },
 "nbformat": 4,
 "nbformat_minor": 2
}
